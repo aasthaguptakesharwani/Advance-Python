{
 "cells": [
  {
   "cell_type": "code",
   "execution_count": 1,
   "id": "1e4272a3-cd87-407f-8a2c-e6164234cf9d",
   "metadata": {},
   "outputs": [
    {
     "name": "stdout",
     "output_type": "stream",
     "text": [
      "15\n",
      "140719531476040\n",
      "50\n",
      "5\n",
      "2.0\n",
      "0\n",
      "2\n",
      "100000\n"
     ]
    }
   ],
   "source": [
    "#Arithmatic Operator :-  +,-,*,/,//,%,**\n",
    "\n",
    "a=10\n",
    "b=5\n",
    "print(a+b)\n",
    "print(id(a))\n",
    "print(a*b)\n",
    "print(a-b)\n",
    "print(a/b)\n",
    "print(a%b)\n",
    "print(a//b)\n",
    "print(a**b)\n"
   ]
  },
  {
   "cell_type": "code",
   "execution_count": 1,
   "id": "7219d49f-54f4-41af-a907-f3555df81d39",
   "metadata": {},
   "outputs": [
    {
     "name": "stdout",
     "output_type": "stream",
     "text": [
      "3.14\n"
     ]
    }
   ],
   "source": [
    "a=3.14\n",
    "b=1\n",
    "print(a*b*b) "
   ]
  },
  {
   "cell_type": "code",
   "execution_count": 2,
   "id": "1569b078-d6d2-43ff-bd38-85963ef3afb5",
   "metadata": {},
   "outputs": [
    {
     "name": "stdout",
     "output_type": "stream",
     "text": [
      "False\n",
      "True\n",
      "False\n",
      "True\n",
      "False\n",
      "True\n"
     ]
    }
   ],
   "source": [
    "#comparison operator :- ++,!=,>=,<=,<,>\n",
    "\n",
    "a=10\n",
    "b=8\n",
    "print(a==b)\n",
    "print(a!=b)\n",
    "print(a<=b)\n",
    "print(a>=b)\n",
    "print(a<b)\n",
    "print(a>b)\n",
    "\n"
   ]
  },
  {
   "cell_type": "code",
   "execution_count": 3,
   "id": "2933e4fb-3efd-42ec-a42f-e1a18ca5b64b",
   "metadata": {},
   "outputs": [
    {
     "name": "stdout",
     "output_type": "stream",
     "text": [
      "False\n",
      "False\n"
     ]
    }
   ],
   "source": [
    "#logical operator :- AND(&) , OR(|) , XOR(^)\n",
    "\n",
    "a=10\n",
    "b=8\n",
    "c=6\n",
    "print(a<b and b<c)\n",
    "print(a<b or not b>c)\n"
   ]
  },
  {
   "cell_type": "code",
   "execution_count": 4,
   "id": "36196f9d-63e4-4904-b0e2-23e5c77a9907",
   "metadata": {},
   "outputs": [
    {
     "name": "stdout",
     "output_type": "stream",
     "text": [
      "True\n",
      "False\n"
     ]
    }
   ],
   "source": [
    "#Identity Operator :- is,is not\n",
    "\n",
    "a=10\n",
    "b=8\n",
    "print(a is not b)\n",
    "print(a is b)\n"
   ]
  },
  {
   "cell_type": "code",
   "execution_count": 9,
   "id": "c8960fd3-0620-4c76-996c-98aa0f0c3647",
   "metadata": {},
   "outputs": [
    {
     "name": "stdout",
     "output_type": "stream",
     "text": [
      "True\n",
      "False\n"
     ]
    }
   ],
   "source": [
    "#Membership Operator :- in, not in\n",
    "a=\"hello\"\n",
    "print(\"h\" in a)\n",
    "print(\"H\" in a)\n"
   ]
  },
  {
   "cell_type": "code",
   "execution_count": 7,
   "id": "6d409de8-f473-415f-9880-d0eb1d4e6105",
   "metadata": {},
   "outputs": [
    {
     "name": "stdout",
     "output_type": "stream",
     "text": [
      "10 0b1010\n",
      "8 0b1000\n",
      "8 0b1000\n",
      "10 0b1010\n",
      "2\n"
     ]
    },
    {
     "data": {
      "text/plain": [
       "(None, '0b10')"
      ]
     },
     "execution_count": 7,
     "metadata": {},
     "output_type": "execute_result"
    }
   ],
   "source": [
    "#Bitwise Operator :- \n",
    "\n",
    "a=10\n",
    "b=8\n",
    "print(a,bin(a))\n",
    "print(b,bin(b))\n",
    "print(a&b,bin(a&b))\n",
    "print(a|b, bin(a|b))\n",
    "print(a^b),bin(a^b)"
   ]
  },
  {
   "cell_type": "code",
   "execution_count": null,
   "id": "f974ed1c-783f-469f-8a2e-ca841197ce64",
   "metadata": {},
   "outputs": [],
   "source": []
  }
 ],
 "metadata": {
  "kernelspec": {
   "display_name": "Python 3 (ipykernel)",
   "language": "python",
   "name": "python3"
  },
  "language_info": {
   "codemirror_mode": {
    "name": "ipython",
    "version": 3
   },
   "file_extension": ".py",
   "mimetype": "text/x-python",
   "name": "python",
   "nbconvert_exporter": "python",
   "pygments_lexer": "ipython3",
   "version": "3.11.7"
  }
 },
 "nbformat": 4,
 "nbformat_minor": 5
}
